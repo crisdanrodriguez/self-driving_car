{
 "cells": [
  {
   "cell_type": "code",
   "execution_count": 121,
   "id": "7056f09f",
   "metadata": {},
   "outputs": [],
   "source": [
    "import pandas as pd\n",
    "import numpy as np\n",
    "import matplotlib.pyplot as plt\n",
    "import cv2\n",
    "import os"
   ]
  },
  {
   "cell_type": "code",
   "execution_count": 122,
   "id": "07526dc2",
   "metadata": {},
   "outputs": [
    {
     "data": {
      "text/html": [
       "<div>\n",
       "<style scoped>\n",
       "    .dataframe tbody tr th:only-of-type {\n",
       "        vertical-align: middle;\n",
       "    }\n",
       "\n",
       "    .dataframe tbody tr th {\n",
       "        vertical-align: top;\n",
       "    }\n",
       "\n",
       "    .dataframe thead th {\n",
       "        text-align: right;\n",
       "    }\n",
       "</style>\n",
       "<table border=\"1\" class=\"dataframe\">\n",
       "  <thead>\n",
       "    <tr style=\"text-align: right;\">\n",
       "      <th></th>\n",
       "      <th>center_camera</th>\n",
       "      <th>left_camera</th>\n",
       "      <th>right_camera</th>\n",
       "      <th>steering_angle</th>\n",
       "      <th>throttle</th>\n",
       "      <th>reverse</th>\n",
       "      <th>speed</th>\n",
       "    </tr>\n",
       "  </thead>\n",
       "  <tbody>\n",
       "    <tr>\n",
       "      <th>0</th>\n",
       "      <td>C:\\Users\\crist\\OneDrive\\Documentos\\Projects\\Gi...</td>\n",
       "      <td>C:\\Users\\crist\\OneDrive\\Documentos\\Projects\\Gi...</td>\n",
       "      <td>C:\\Users\\crist\\OneDrive\\Documentos\\Projects\\Gi...</td>\n",
       "      <td>0.0</td>\n",
       "      <td>0.0</td>\n",
       "      <td>0</td>\n",
       "      <td>0.000085</td>\n",
       "    </tr>\n",
       "    <tr>\n",
       "      <th>1</th>\n",
       "      <td>C:\\Users\\crist\\OneDrive\\Documentos\\Projects\\Gi...</td>\n",
       "      <td>C:\\Users\\crist\\OneDrive\\Documentos\\Projects\\Gi...</td>\n",
       "      <td>C:\\Users\\crist\\OneDrive\\Documentos\\Projects\\Gi...</td>\n",
       "      <td>0.0</td>\n",
       "      <td>0.0</td>\n",
       "      <td>0</td>\n",
       "      <td>0.000082</td>\n",
       "    </tr>\n",
       "    <tr>\n",
       "      <th>2</th>\n",
       "      <td>C:\\Users\\crist\\OneDrive\\Documentos\\Projects\\Gi...</td>\n",
       "      <td>C:\\Users\\crist\\OneDrive\\Documentos\\Projects\\Gi...</td>\n",
       "      <td>C:\\Users\\crist\\OneDrive\\Documentos\\Projects\\Gi...</td>\n",
       "      <td>0.0</td>\n",
       "      <td>0.0</td>\n",
       "      <td>0</td>\n",
       "      <td>0.000082</td>\n",
       "    </tr>\n",
       "    <tr>\n",
       "      <th>3</th>\n",
       "      <td>C:\\Users\\crist\\OneDrive\\Documentos\\Projects\\Gi...</td>\n",
       "      <td>C:\\Users\\crist\\OneDrive\\Documentos\\Projects\\Gi...</td>\n",
       "      <td>C:\\Users\\crist\\OneDrive\\Documentos\\Projects\\Gi...</td>\n",
       "      <td>0.0</td>\n",
       "      <td>0.0</td>\n",
       "      <td>0</td>\n",
       "      <td>0.000082</td>\n",
       "    </tr>\n",
       "    <tr>\n",
       "      <th>4</th>\n",
       "      <td>C:\\Users\\crist\\OneDrive\\Documentos\\Projects\\Gi...</td>\n",
       "      <td>C:\\Users\\crist\\OneDrive\\Documentos\\Projects\\Gi...</td>\n",
       "      <td>C:\\Users\\crist\\OneDrive\\Documentos\\Projects\\Gi...</td>\n",
       "      <td>0.0</td>\n",
       "      <td>0.0</td>\n",
       "      <td>0</td>\n",
       "      <td>0.000083</td>\n",
       "    </tr>\n",
       "  </tbody>\n",
       "</table>\n",
       "</div>"
      ],
      "text/plain": [
       "                                       center_camera  \\\n",
       "0  C:\\Users\\crist\\OneDrive\\Documentos\\Projects\\Gi...   \n",
       "1  C:\\Users\\crist\\OneDrive\\Documentos\\Projects\\Gi...   \n",
       "2  C:\\Users\\crist\\OneDrive\\Documentos\\Projects\\Gi...   \n",
       "3  C:\\Users\\crist\\OneDrive\\Documentos\\Projects\\Gi...   \n",
       "4  C:\\Users\\crist\\OneDrive\\Documentos\\Projects\\Gi...   \n",
       "\n",
       "                                         left_camera  \\\n",
       "0  C:\\Users\\crist\\OneDrive\\Documentos\\Projects\\Gi...   \n",
       "1  C:\\Users\\crist\\OneDrive\\Documentos\\Projects\\Gi...   \n",
       "2  C:\\Users\\crist\\OneDrive\\Documentos\\Projects\\Gi...   \n",
       "3  C:\\Users\\crist\\OneDrive\\Documentos\\Projects\\Gi...   \n",
       "4  C:\\Users\\crist\\OneDrive\\Documentos\\Projects\\Gi...   \n",
       "\n",
       "                                        right_camera  steering_angle  \\\n",
       "0  C:\\Users\\crist\\OneDrive\\Documentos\\Projects\\Gi...             0.0   \n",
       "1  C:\\Users\\crist\\OneDrive\\Documentos\\Projects\\Gi...             0.0   \n",
       "2  C:\\Users\\crist\\OneDrive\\Documentos\\Projects\\Gi...             0.0   \n",
       "3  C:\\Users\\crist\\OneDrive\\Documentos\\Projects\\Gi...             0.0   \n",
       "4  C:\\Users\\crist\\OneDrive\\Documentos\\Projects\\Gi...             0.0   \n",
       "\n",
       "   throttle  reverse     speed  \n",
       "0       0.0        0  0.000085  \n",
       "1       0.0        0  0.000082  \n",
       "2       0.0        0  0.000082  \n",
       "3       0.0        0  0.000082  \n",
       "4       0.0        0  0.000083  "
      ]
     },
     "execution_count": 122,
     "metadata": {},
     "output_type": "execute_result"
    }
   ],
   "source": [
    "df = pd.read_csv('data/driving_log.csv')\n",
    "\n",
    "df.head()"
   ]
  },
  {
   "cell_type": "code",
   "execution_count": 123,
   "id": "0892ee97",
   "metadata": {},
   "outputs": [],
   "source": [
    "def augment_brightness(image):\n",
    "    # Convert the image from RGB to HSV \n",
    "    hsv_image = cv2.cvtColor(image, cv2.COLOR_BGR2HSV)\n",
    "    \n",
    "    # Convert pixels dtype from uint8 to float64 \n",
    "    hsv_image = np.array(hsv_image, dtype = np.float64)\n",
    "    \n",
    "    # Modify the brigthness changing the V value\n",
    "    random_brightness = 0.5 + np.random.uniform()\n",
    "    hsv_image[:,:,2] = hsv_image[:,:,2] * random_brightness\n",
    "    hsv_image[:,:,2][hsv_image[:,:,2] > 255] = 255\n",
    "    \n",
    "    # Return pixels dtype to uint8 \n",
    "    hsv_image = np.array(hsv_image, dtype = np.uint8)\n",
    "    \n",
    "    # Returns the image to RGB\n",
    "    rgb_image = cv2.cvtColor(hsv_image, cv2.COLOR_HSV2RGB)\n",
    "    \n",
    "    return rgb_image"
   ]
  },
  {
   "cell_type": "code",
   "execution_count": 124,
   "id": "673d3d10",
   "metadata": {},
   "outputs": [],
   "source": [
    "def horizontal_flip(image, steering_angle):\n",
    "    # Flip the image horizontally\n",
    "    flipped_image = cv2.flip(image, 1)\n",
    "    \n",
    "    # Reverse the sign of the steering angle\n",
    "    steering_angle = -steering_angle\n",
    "    \n",
    "    return flipped_image, steering_angle"
   ]
  },
  {
   "cell_type": "code",
   "execution_count": 125,
   "id": "42f427cd",
   "metadata": {},
   "outputs": [
    {
     "ename": "SyntaxError",
     "evalue": "unexpected EOF while parsing (<ipython-input-125-9b5edfe323fa>, line 1)",
     "output_type": "error",
     "traceback": [
      "\u001b[1;36m  File \u001b[1;32m\"<ipython-input-125-9b5edfe323fa>\"\u001b[1;36m, line \u001b[1;32m1\u001b[0m\n\u001b[1;33m    def random_shadow(image):\u001b[0m\n\u001b[1;37m                             ^\u001b[0m\n\u001b[1;31mSyntaxError\u001b[0m\u001b[1;31m:\u001b[0m unexpected EOF while parsing\n"
     ]
    }
   ],
   "source": [
    "def random_shadow(image):"
   ]
  },
  {
   "cell_type": "code",
   "execution_count": 126,
   "id": "a7a6b9e8",
   "metadata": {},
   "outputs": [],
   "source": [
    "def top_bottom_crop(image):\n",
    "    # Crop the bottom 25 and the top 40 pixels\n",
    "    cropped_image = image[40:135, :]\n",
    "    \n",
    "    return cropped_image"
   ]
  },
  {
   "cell_type": "code",
   "execution_count": null,
   "id": "3f33fb90",
   "metadata": {},
   "outputs": [],
   "source": []
  }
 ],
 "metadata": {
  "kernelspec": {
   "display_name": "Python 3",
   "language": "python",
   "name": "python3"
  },
  "language_info": {
   "codemirror_mode": {
    "name": "ipython",
    "version": 3
   },
   "file_extension": ".py",
   "mimetype": "text/x-python",
   "name": "python",
   "nbconvert_exporter": "python",
   "pygments_lexer": "ipython3",
   "version": "3.8.8"
  }
 },
 "nbformat": 4,
 "nbformat_minor": 5
}

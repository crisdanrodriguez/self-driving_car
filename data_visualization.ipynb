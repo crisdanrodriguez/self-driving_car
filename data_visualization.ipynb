{
 "cells": [
  {
   "cell_type": "markdown",
   "id": "148e4632",
   "metadata": {},
   "source": [
    "# Exploratory Data Analysis"
   ]
  },
  {
   "cell_type": "markdown",
   "id": "f920c24c",
   "metadata": {},
   "source": [
    "### Import Libraries"
   ]
  },
  {
   "cell_type": "code",
   "execution_count": null,
   "id": "ccd168a6",
   "metadata": {},
   "outputs": [],
   "source": [
    "import pandas as pd\n",
    "import numpy as np\n",
    "import seaborn as sns\n",
    "import matplotlib.pyplot as plt\n",
    "import cv2\n",
    "from data_preprocessing import *"
   ]
  },
  {
   "cell_type": "markdown",
   "id": "b3bbfeec",
   "metadata": {},
   "source": [
    "## Before Data Augmentation"
   ]
  },
  {
   "cell_type": "markdown",
   "id": "7855c85d",
   "metadata": {},
   "source": [
    "### Loadind Data"
   ]
  },
  {
   "cell_type": "code",
   "execution_count": null,
   "id": "6f8e2d38",
   "metadata": {},
   "outputs": [],
   "source": [
    "# Read CSV file into DataFrame\n",
    "col_names = ['center_camera', 'left_camera', 'right_camera', 'steering_angle', 'throttle', 'brake', 'speed']\n",
    "df = pd.read_csv('data/driving_log.csv', names = col_names)\n",
    "df.head()"
   ]
  },
  {
   "cell_type": "markdown",
   "id": "4b1f2e4c",
   "metadata": {},
   "source": [
    "### Basic Description of the Data"
   ]
  },
  {
   "cell_type": "code",
   "execution_count": null,
   "id": "0bebe4ea",
   "metadata": {},
   "outputs": [],
   "source": [
    "# Identification of data types\n",
    "df.dtypes"
   ]
  },
  {
   "cell_type": "code",
   "execution_count": null,
   "id": "eb162481",
   "metadata": {},
   "outputs": [],
   "source": [
    "# Size of dataset\n",
    "df.shape"
   ]
  },
  {
   "cell_type": "markdown",
   "id": "0201366c",
   "metadata": {},
   "source": [
    "### Target Variable Countplot"
   ]
  },
  {
   "cell_type": "code",
   "execution_count": null,
   "id": "6b1d865a",
   "metadata": {},
   "outputs": [],
   "source": [
    "# Adjust figure size\n",
    "plt.figure(figsize = (15, 6))\n",
    "\n",
    "# Set darkgrid style for all matplotlib and seaborn plots\n",
    "sns.set_theme(style = \"darkgrid\")\n",
    "\n",
    "# steering_angle variable distribution\n",
    "sns.histplot(data = df, x = 'steering_angle')\n",
    "\n",
    "# Adjust graph title and labels title\n",
    "plt.title('Steering wheel angle distribution', fontweight = 'bold')\n",
    "plt.xlabel('Steering Angle')\n",
    "plt.ylabel('Count')\n",
    "plt.show()"
   ]
  },
  {
   "cell_type": "markdown",
   "id": "28fb4b7c",
   "metadata": {},
   "source": [
    "### Sample Image from Each Camera"
   ]
  },
  {
   "cell_type": "code",
   "execution_count": null,
   "id": "915c04c0",
   "metadata": {},
   "outputs": [],
   "source": [
    "randint = np.random.randint(len(df), size = 1)[0]\n",
    "\n",
    "# Adjust figures size\n",
    "plt.figure(figsize = (30, 30))\n",
    "\n",
    "# Main title for all image subplots\n",
    "plt.suptitle('Sample images from each camera', fontweight = 'bold', fontsize = 20, y = 0.58)\n",
    "\n",
    "# Show left camera sample image\n",
    "left_cam = cv2.imread(df.iloc[randint]['left_camera'].strip())\n",
    "left_cam = cv2.cvtColor(left_cam, cv2.COLOR_BGR2RGB)\n",
    "plt.subplot(1, 3, 1)\n",
    "plt.imshow(left_cam)\n",
    "plt.title('Left Camera')\n",
    "plt.grid(False)\n",
    "plt.axis('off')\n",
    "\n",
    "# Show center camera sample image\n",
    "center_cam = cv2.imread(df.iloc[randint]['center_camera'].strip())\n",
    "center_cam = cv2.cvtColor(center_cam, cv2.COLOR_BGR2RGB)\n",
    "plt.subplot(1, 3, 2)\n",
    "plt.imshow(center_cam)\n",
    "plt.title('Center Camera')\n",
    "plt.grid(False)\n",
    "plt.axis('off')\n",
    "\n",
    "# Show left camera sample image\n",
    "right_cam = cv2.imread(df.iloc[randint]['right_camera'].strip())\n",
    "right_cam = cv2.cvtColor(right_cam, cv2.COLOR_BGR2RGB)\n",
    "plt.subplot(1, 3, 3)\n",
    "plt.imshow(right_cam)\n",
    "plt.title('Right Camera')\n",
    "plt.grid(False)\n",
    "plt.axis('off')"
   ]
  },
  {
   "cell_type": "markdown",
   "id": "60bf5772",
   "metadata": {},
   "source": [
    "## After Data Augmentation"
   ]
  },
  {
   "cell_type": "markdown",
   "id": "42b5f2a5",
   "metadata": {},
   "source": [
    "### Horizontal Flip"
   ]
  },
  {
   "cell_type": "code",
   "execution_count": null,
   "id": "9fa91219",
   "metadata": {},
   "outputs": [],
   "source": [
    "# Adjust figures size\n",
    "plt.figure(figsize = (30, 30))\n",
    "\n",
    "# Initial image\n",
    "left_cam = cv2.imread(df.iloc[randint]['left_camera'].strip())\n",
    "left_cam = cv2.cvtColor(left_cam, cv2.COLOR_BGR2RGB)\n",
    "plt.subplot(1, 2, 1)\n",
    "plt.imshow(left_cam)\n",
    "plt.title('Initial Image')\n",
    "plt.grid(False)\n",
    "plt.axis('off')\n",
    "\n",
    "# Flipped image\n",
    "flipped_image = horizontal_flip(left_cam, df.iloc[randint]['steering_angle'])\n",
    "plt.subplot(1, 2, 2)\n",
    "plt.imshow(flipped_image[0])\n",
    "plt.title('Flipped Image')\n",
    "plt.grid(False)\n",
    "plt.axis('off')"
   ]
  },
  {
   "cell_type": "markdown",
   "id": "3cbd87d7",
   "metadata": {},
   "source": [
    "### Brightness Reduction"
   ]
  },
  {
   "cell_type": "code",
   "execution_count": null,
   "id": "01c73dde",
   "metadata": {},
   "outputs": [],
   "source": [
    "# Adjust figures size\n",
    "plt.figure(figsize = (30, 30))\n",
    "\n",
    "# Initial image\n",
    "left_cam = cv2.imread(df.iloc[randint]['left_camera'].strip())\n",
    "left_cam = cv2.cvtColor(left_cam, cv2.COLOR_BGR2RGB)\n",
    "plt.subplot(1, 2, 1)\n",
    "plt.imshow(left_cam)\n",
    "plt.title('Initial Image')\n",
    "plt.grid(False)\n",
    "plt.axis('off')\n",
    "\n",
    "# Brightness modification \n",
    "ba_image = brightness_reduction(left_cam)\n",
    "plt.subplot(1, 2, 2)\n",
    "plt.imshow(ba_image)\n",
    "plt.title('Brightness Reduction')\n",
    "plt.grid(False)\n",
    "plt.axis('off')"
   ]
  },
  {
   "cell_type": "markdown",
   "id": "8a00f373",
   "metadata": {},
   "source": [
    "### Translation"
   ]
  },
  {
   "cell_type": "code",
   "execution_count": null,
   "id": "2aa17ddc",
   "metadata": {},
   "outputs": [],
   "source": [
    "# Adjust figures size\n",
    "plt.figure(figsize = (30, 30))\n",
    "\n",
    "# Initial image\n",
    "left_cam = cv2.imread(df.iloc[randint]['left_camera'].strip())\n",
    "left_cam = cv2.cvtColor(left_cam, cv2.COLOR_BGR2RGB)\n",
    "plt.subplot(1, 2, 1)\n",
    "plt.imshow(left_cam)\n",
    "plt.title('Initial Image')\n",
    "plt.grid(False)\n",
    "plt.axis('off')\n",
    "\n",
    "# Translation \n",
    "translated_image = translation(left_cam, df.iloc[randint]['steering_angle'])\n",
    "plt.subplot(1, 2, 2)\n",
    "plt.imshow(translated_image[0])\n",
    "plt.title('Translated Image')\n",
    "plt.grid(False)\n",
    "plt.axis('off')"
   ]
  },
  {
   "cell_type": "markdown",
   "id": "d203303d",
   "metadata": {},
   "source": [
    "### Cropping"
   ]
  },
  {
   "cell_type": "code",
   "execution_count": null,
   "id": "d540e893",
   "metadata": {},
   "outputs": [],
   "source": [
    "# Adjust figures size\n",
    "plt.figure(figsize = (30, 30))\n",
    "\n",
    "# Initial image\n",
    "left_cam = cv2.imread(df.iloc[randint]['left_camera'].strip())\n",
    "left_cam = cv2.cvtColor(left_cam, cv2.COLOR_BGR2RGB)\n",
    "plt.subplot(1, 2, 1)\n",
    "plt.imshow(left_cam)\n",
    "plt.title('Initial Image')\n",
    "plt.grid(False)\n",
    "plt.axis('off')\n",
    "\n",
    "# Cropped Image\n",
    "cropped_image = top_bottom_crop(left_cam)\n",
    "plt.subplot(1, 2, 2)\n",
    "plt.imshow(cropped_image)\n",
    "plt.title('Cropped Image')\n",
    "plt.grid(False)\n",
    "plt.axis('off')"
   ]
  },
  {
   "cell_type": "markdown",
   "id": "99e2e0ea",
   "metadata": {},
   "source": [
    "## Data Preprocessing"
   ]
  },
  {
   "cell_type": "code",
   "execution_count": null,
   "id": "18dcf30a",
   "metadata": {},
   "outputs": [],
   "source": [
    "# Adjust figures size\n",
    "plt.figure(figsize = (30, 30))\n",
    "\n",
    "# Initial image\n",
    "center_cam = cv2.imread(df.iloc[randint]['center_camera'].strip())\n",
    "center_cam = cv2.cvtColor(center_cam, cv2.COLOR_BGR2RGB)\n",
    "plt.subplot(1, 2, 1)\n",
    "plt.imshow(center_cam)\n",
    "plt.title('Initial Image')\n",
    "plt.grid(False)\n",
    "plt.axis('off')\n",
    "\n",
    "# Cropped Image\n",
    "preprocessed_image = image_preprocessing(center_cam)\n",
    "plt.subplot(1, 2, 2)\n",
    "plt.imshow(preprocessed_image)\n",
    "plt.title('Preprocessed Image')\n",
    "plt.grid(False)\n",
    "plt.axis('off')"
   ]
  }
 ],
 "metadata": {
  "kernelspec": {
   "display_name": "Python 3.9.12 (tensorflow)",
   "language": "python",
   "name": "tensorflow"
  },
  "language_info": {
   "codemirror_mode": {
    "name": "ipython",
    "version": 3
   },
   "file_extension": ".py",
   "mimetype": "text/x-python",
   "name": "python",
   "nbconvert_exporter": "python",
   "pygments_lexer": "ipython3",
   "version": "3.10.4"
  }
 },
 "nbformat": 4,
 "nbformat_minor": 5
}
